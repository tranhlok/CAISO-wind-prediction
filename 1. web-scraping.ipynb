{
 "cells": [
  {
   "cell_type": "markdown",
   "id": "6f05cdb9-4125-4236-be7d-8a6e7b9cac14",
   "metadata": {},
   "source": [
    "## Goal 1 (Optional): Scrap actual and forecasted wind generation from 2024-03-16 onwards \n",
    "\n",
    "This notebook is used to scrape the website and download the csv file. \n",
    "I used Selenium (https://www.selenium.dev/) a open source project for browser automation. \n",
    "The package can be install by pip here https://pypi.org/project/selenium/."
   ]
  },
  {
   "cell_type": "code",
   "execution_count": 6,
   "id": "f2d52edf-c3b3-4a75-82d3-6df3257bf8c6",
   "metadata": {},
   "outputs": [],
   "source": [
    "import zipfile\n",
    "import os, time\n",
    "from datetime import datetime\n",
    "from selenium import webdriver\n",
    "from selenium.webdriver.common.by import By\n",
    "from selenium.webdriver.common.keys import Keys\n",
    "from selenium.webdriver.support.ui import WebDriverWait\n",
    "from selenium.webdriver.support import expected_conditions as EC\n",
    "from selenium.webdriver.common.action_chains import ActionChains"
   ]
  },
  {
   "cell_type": "code",
   "execution_count": 7,
   "id": "642f82ce-fc6f-431a-b287-19538407c999",
   "metadata": {},
   "outputs": [],
   "source": [
    "download_dir = \"/Users/lok/5DE/data\"  # Replace with your desired directory\n",
    "os.makedirs(download_dir, exist_ok=True)\n",
    "\n",
    "# the website is unsecured so we had to use some chrome options to bypass everything, including the pop up to download\n",
    "options = webdriver.ChromeOptions()\n",
    "\n",
    "prefs = {\n",
    "    \"download.default_directory\": download_dir,\n",
    "    \"download.directory_upgrade\": \"true\",\n",
    "    \"download.prompt_for_download\": \"false\",\n",
    "    \"disable-popup-blocking\": \"true\",\n",
    "    \"safebrowsing.enabled\": False,\n",
    "    \"default_content_settings\": \"contentSettings\",\n",
    "    \"download\": \"download\"\n",
    "}\n",
    "options.add_experimental_option(\"prefs\", prefs)\n",
    "options.add_argument(\"--headless\")\n",
    "options.add_argument(\"--disable-notifications\")\n",
    "options.add_argument('--disable-gpu')\n",
    "options.add_argument('--disable-software-rasterizer')\n",
    "driver = webdriver.Chrome(options=options)\n",
    "options.add_argument('--safebrowsing-disable-download-protection')"
   ]
  },
  {
   "cell_type": "markdown",
   "id": "c7ba4c78-6f04-420e-9d33-44d32ad7f59c",
   "metadata": {},
   "source": [
    "The following portions of the code could take a few minutes or so to run. \n",
    "The website connection is unstable at certain times so I decided to add buffer between each steps to ensure all the loading are finished first."
   ]
  },
  {
   "cell_type": "code",
   "execution_count": 8,
   "id": "fbc58d2e-935a-43ed-88c1-8fac96a339ce",
   "metadata": {},
   "outputs": [
    {
     "name": "stdout",
     "output_type": "stream",
     "text": [
      "Download process finished. The zip file is in the data folder. Please Unzip the file with the function below.\n"
     ]
    }
   ],
   "source": [
    "# Initialize selenium webdriver with the Chrome options\n",
    "driver = webdriver.Chrome(options=options)\n",
    "\n",
    "# Initialize selenium webdriver\n",
    "\n",
    "# Navigate to the website\n",
    "driver.get('http://oasis.caiso.com/mrioasis/logon.do')\n",
    "\n",
    "# Hover over the SYSTEM DEMAND menu\n",
    "action = ActionChains(driver)\n",
    "system_demand_menu = WebDriverWait(driver, 10).until(\n",
    "    EC.visibility_of_element_located((By.ID, 'LowerMenuItem.oasisMenu.SysDemand')))\n",
    "action.move_to_element(system_demand_menu).perform()\n",
    "\n",
    "# winsolar button\n",
    "apply_button = WebDriverWait(driver, 10).until(\n",
    "    EC.element_to_be_clickable((By.ID, 'DropdownMenu.oasisMenu.SysDemand.windSolar')))\n",
    "apply_button.click()\n",
    "time.sleep(2)\n",
    "\n",
    "# date from input\n",
    "date_from_div = WebDriverWait(driver, 20).until(\n",
    "    EC.presence_of_element_located((By.ID, 'PFC_date_from')))\n",
    "date_from_input = date_from_div.find_element(By.TAG_NAME, 'input')\n",
    "date_from_input.clear()\n",
    "date_from_input.send_keys('03/16/2024', Keys.ENTER)\n",
    "time.sleep(2)\n",
    "\n",
    "# calendar button\n",
    "calendar_icon = WebDriverWait(driver, 10).until(\n",
    "    EC.element_to_be_clickable((By.ID, 'PFC_date_to_CAL_ICON')))\n",
    "calendar_icon.click()\n",
    "time.sleep(5)\n",
    "\n",
    "# today button\n",
    "today_button_to = WebDriverWait(driver, 20).until(\n",
    "    EC.element_to_be_clickable((By.XPATH, \"(//button[@title='Today'])[last()]\")))\n",
    "today_button_to.click()\n",
    "time.sleep(2)\n",
    "\n",
    "# download button\n",
    "download_button = WebDriverWait(driver, 20).until(\n",
    "    EC.element_to_be_clickable((By.XPATH, \"//button[contains(., 'Download CSV')]\")))\n",
    "download_button.click()\n",
    " \n",
    "# buffer time to download files\n",
    "time.sleep(30)  # Adjust this delay as needed for the download to complete\n",
    "print(\"Download process finished. The zip file is in the data folder. Please Unzip the file with the function below.\")\n",
    "# Close the browser\n",
    "driver.quit()"
   ]
  },
  {
   "cell_type": "markdown",
   "id": "568bb54d-1d9b-46a1-b233-9c0c17086a43",
   "metadata": {},
   "source": [
    "## Wait for the above to first first before proceeding."
   ]
  },
  {
   "cell_type": "code",
   "execution_count": 9,
   "id": "faf319ec-b2cb-4b6e-a775-fa4a8eafacc3",
   "metadata": {},
   "outputs": [
    {
     "name": "stdout",
     "output_type": "stream",
     "text": [
      "Unzipped '20240316_20240409_SLD_REN_FCST_N_20240408_16_06_44_v1.zip' to '/Users/lok/5DE/data'\n",
      "Default file name: most_recent_data.csv\n"
     ]
    }
   ],
   "source": [
    "def find_most_recent_zip(folder_path):\n",
    "    # List all files in the folder\n",
    "    files = [f for f in os.listdir(folder_path) if os.path.isfile(os.path.join(folder_path, f))]\n",
    "\n",
    "    # Filter out non-zip files\n",
    "    zip_files = [f for f in files if f.endswith('.zip')]\n",
    "\n",
    "    # Sort the zip files by modification time, descending\n",
    "    zip_files.sort(key=lambda x: os.path.getmtime(os.path.join(folder_path, x)), reverse=True)\n",
    "\n",
    "    return zip_files[0] if zip_files else None\n",
    "\n",
    "def unzip_most_recent_file(folder_path, extract_to):\n",
    "    try:\n",
    "        # Find the most recent zip file\n",
    "        recent_zip = find_most_recent_zip(folder_path)\n",
    "\n",
    "        if recent_zip is None:\n",
    "            print(\"No ZIP files found in the directory.\")\n",
    "            return\n",
    "\n",
    "        # Full path of the zip file\n",
    "        zip_path = os.path.join(folder_path, recent_zip)\n",
    "\n",
    "        # Unzipping the file\n",
    "        with zipfile.ZipFile(zip_path, 'r') as zip_ref:\n",
    "            extracted_files = zip_ref.namelist()\n",
    "            zip_ref.extractall(extract_to)\n",
    "\n",
    "            # Find the CSV file in the extracted files\n",
    "            csv_file = next((f for f in extracted_files if f.endswith('.csv')), None)\n",
    "            if csv_file is None:\n",
    "                print(\"No CSV file found in the ZIP.\")\n",
    "                return\n",
    "\n",
    "            # Rename the CSV file to 'most_recent_data.csv'\n",
    "            os.rename(os.path.join(extract_to, csv_file), os.path.join(extract_to, 'most_recent_data.csv'))\n",
    "            print(f\"Unzipped '{recent_zip}' to '{extract_to}'\")\n",
    "    except Exception as e:\n",
    "        print(f\"Error occurred: {e}\")\n",
    "\n",
    "unzip_most_recent_file(download_dir, download_dir)\n",
    "print('Default file name: most_recent_data.csv')"
   ]
  },
  {
   "cell_type": "code",
   "execution_count": null,
   "id": "322ec3d2-8636-4884-96b9-03567828c3f4",
   "metadata": {},
   "outputs": [],
   "source": []
  }
 ],
 "metadata": {
  "kernelspec": {
   "display_name": "Python 3 (ipykernel)",
   "language": "python",
   "name": "python3"
  },
  "language_info": {
   "codemirror_mode": {
    "name": "ipython",
    "version": 3
   },
   "file_extension": ".py",
   "mimetype": "text/x-python",
   "name": "python",
   "nbconvert_exporter": "python",
   "pygments_lexer": "ipython3",
   "version": "3.12.2"
  }
 },
 "nbformat": 4,
 "nbformat_minor": 5
}
