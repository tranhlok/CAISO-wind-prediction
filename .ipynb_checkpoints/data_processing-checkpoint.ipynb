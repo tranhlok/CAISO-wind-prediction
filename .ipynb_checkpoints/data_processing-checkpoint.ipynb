{
 "cells": [
  {
   "cell_type": "markdown",
   "id": "6909513f-0047-42bc-8351-263a5367207e",
   "metadata": {},
   "source": [
    "## Data processing notebook\n",
    "\n",
    "Notebook to select columns and trading region to form a new csv file as an output for further analysis"
   ]
  },
  {
   "cell_type": "code",
   "execution_count": 28,
   "id": "689f908a-4fa2-4061-96bb-f5d8ba467cd7",
   "metadata": {},
   "outputs": [],
   "source": [
    "import pandas as pd"
   ]
  },
  {
   "cell_type": "code",
   "execution_count": 29,
   "id": "92b7406c-049e-419f-b526-394b77462b3f",
   "metadata": {},
   "outputs": [],
   "source": [
    "file_path = '/Users/lok/5DE/data/most_recent_data.csv'\n",
    "df = pd.read_csv(file_path)\n",
    "df = df[['OPR_DT', 'OPR_HR', 'TRADING_HUB', 'RENEWABLE_TYPE', 'MW', 'MARKET_RUN_ID']]\n",
    "df = df.sort_values(by=['OPR_DT', 'OPR_HR']) "
   ]
  },
  {
   "cell_type": "code",
   "execution_count": 30,
   "id": "0a9b3d05-5ef2-42e6-bca1-0f98a8bef0e1",
   "metadata": {},
   "outputs": [],
   "source": [
    "\n",
    "DAM_ACTUAL_df = df[\n",
    "    (df['TRADING_HUB'] == 'SP15') & \n",
    "    (df['RENEWABLE_TYPE'] == 'Wind') & \n",
    "    (df['MARKET_RUN_ID'].isin(['DAM', 'ACTUAL']))\n",
    "]\n",
    "\n",
    "new_file_path = '/Users/lok/5DE/data/DAM_ACTUAL.csv'\n",
    "# Saving the filtered data to a new CSV file\n",
    "DAM_ACTUAL_df.to_csv(new_file_path, index=False)\n"
   ]
  },
  {
   "cell_type": "code",
   "execution_count": 31,
   "id": "96ba3d9d-7e3e-4a85-b129-ebfd74f22aed",
   "metadata": {},
   "outputs": [],
   "source": [
    "ACTUAL_df = df[\n",
    "    (df['TRADING_HUB'] == 'SP15') & \n",
    "    (df['RENEWABLE_TYPE'] == 'Wind') & \n",
    "    (df['MARKET_RUN_ID']  == 'ACTUAL')\n",
    "]\n",
    "\n",
    "new_file_path_actual = '/Users/lok/5DE/data/ACTUAL.csv'\n",
    "\n",
    "# Saving the filtered data to a new CSV file\n",
    "ACTUAL_df.to_csv(new_file_path_actual, index=False)"
   ]
  },
  {
   "cell_type": "code",
   "execution_count": 32,
   "id": "307d388e-0886-47e8-b240-aca9ce7a3db2",
   "metadata": {},
   "outputs": [],
   "source": [
    "DAM_df = df[\n",
    "    (df['TRADING_HUB'] == 'SP15') & \n",
    "    (df['RENEWABLE_TYPE'] == 'Wind') & \n",
    "    (df['MARKET_RUN_ID']  == 'DAM')\n",
    "]\n",
    "\n",
    "new_file_path_predicted = '/Users/lok/5DE/data/DAM.csv'\n",
    "\n",
    "# Saving the filtered data to a new CSV file\n",
    "DAM_df.to_csv(new_file_path_predicted, index=False)"
   ]
  },
  {
   "cell_type": "code",
   "execution_count": 33,
   "id": "a5db68b7-d346-4806-ab91-d3c2270f82b1",
   "metadata": {},
   "outputs": [],
   "source": [
    "file_path = '/Users/lok/5DE/data/ACTUAL.csv'\n",
    "data = pd.read_csv(file_path)\n",
    "# sorted_df = df.sort_values(by=['OPR_DT', 'OPR_HR'])\n",
    "\n",
    "data['Datetime'] = pd.to_datetime(data['OPR_DT']) + pd.to_timedelta(data['OPR_HR'], unit='h')\n",
    "\n",
    "# Assuming we are summing up the energy output for each hour across all trading hubs and renewable types\n",
    "# Group by the new datetime column and sum the energy output\n",
    "# data_grouped = data.groupby('Datetime')['MW'].sum().reset_index()\n",
    "new_file_path_merged = '/Users/lok/5DE/ACTUAL_datetime.csv'\n",
    "\n",
    "# Sort the data chronologically\n",
    "data.to_csv(new_file_path_merged, index=False)\n"
   ]
  },
  {
   "cell_type": "code",
   "execution_count": null,
   "id": "cfd5ef18-75b5-474b-9655-bb538d9872ab",
   "metadata": {},
   "outputs": [],
   "source": []
  }
 ],
 "metadata": {
  "kernelspec": {
   "display_name": "Python 3 (ipykernel)",
   "language": "python",
   "name": "python3"
  },
  "language_info": {
   "codemirror_mode": {
    "name": "ipython",
    "version": 3
   },
   "file_extension": ".py",
   "mimetype": "text/x-python",
   "name": "python",
   "nbconvert_exporter": "python",
   "pygments_lexer": "ipython3",
   "version": "3.12.2"
  }
 },
 "nbformat": 4,
 "nbformat_minor": 5
}
