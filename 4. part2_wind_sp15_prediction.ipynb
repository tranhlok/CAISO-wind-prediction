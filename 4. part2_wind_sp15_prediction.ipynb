{
 "cells": [
  {
   "cell_type": "markdown",
   "id": "ce38fe58-2b07-4814-916f-89028940ff74",
   "metadata": {},
   "source": [
    "## Part 2: Predict actual power generation by wind plants of SP15 hub on 2024-04-09\n",
    "\n",
    "I use LSTM model built on PyTorch. The architecture, training and generating prediction can be seen below.\n",
    "Both DAM and ACTUAL data can be used for generating prediction. I used DAM data up to operating hour 24 4/8/2024 in the training process."
   ]
  },
  {
   "cell_type": "code",
   "execution_count": 41,
   "id": "859f5ca6-7ede-4798-951b-7e3ab50215f8",
   "metadata": {},
   "outputs": [],
   "source": [
    "import torch\n",
    "import numpy as np\n",
    "import pandas as pd\n",
    "import torch.nn as nn\n",
    "import torch.optim as optim\n",
    "from tqdm.notebook import tqdm\n",
    "import matplotlib.pyplot as plt\n",
    "from sklearn.preprocessing import MinMaxScaler\n",
    "from sklearn.model_selection import train_test_split"
   ]
  },
  {
   "cell_type": "code",
   "execution_count": 92,
   "id": "617ca5ff-eb9e-42ae-91c3-600521a890d3",
   "metadata": {},
   "outputs": [],
   "source": [
    "# Load the provided time series data\n",
    "file_path = '/Users/lok/5DE/data/DAM.csv'\n",
    "data = pd.read_csv(file_path)"
   ]
  },
  {
   "cell_type": "code",
   "execution_count": 93,
   "id": "6e45eee4-e4e8-4efc-ba6a-2e52b2c7a609",
   "metadata": {},
   "outputs": [],
   "source": [
    "# Normalizing the data\n",
    "scaler = MinMaxScaler(feature_range=(0, 1))\n",
    "normalized_data = scaler.fit_transform(data[['MW']].values)"
   ]
  },
  {
   "cell_type": "code",
   "execution_count": 104,
   "id": "63c6b879-b428-4d76-844b-e72c18c39dca",
   "metadata": {},
   "outputs": [],
   "source": [
    "# Function to create sequences with both actual and predicted data\n",
    "def create_sequences(input_data, sequence_length):\n",
    "    xs = []\n",
    "    ys = []\n",
    "    for i in range(len(input_data)-sequence_length):\n",
    "        x = input_data[i:(i+sequence_length), :]\n",
    "        y = input_data[i+sequence_length, 0]  # We are predicting the next actual value\n",
    "        xs.append(x)\n",
    "        ys.append(y)\n",
    "    return np.array(xs), np.array(ys)\n",
    "\n",
    "# Creating sequences\n",
    "sequence_length = 24  # using 24 hours of data to predict the next hour\n",
    "X, y = create_sequences(normalized_data, sequence_length)\n",
    "\n",
    "train_size = int(len(X) * 0.8)\n",
    "X_train, y_train = X[:train_size], y[:train_size]\n",
    "X_val, y_val = X[train_size:], y[train_size:]\n",
    "\n",
    "# Converting data to PyTorch tensors\n",
    "X_train_tensor = torch.tensor(X_train, dtype=torch.float32)\n",
    "y_train_tensor = torch.tensor(y_train, dtype=torch.float32)\n",
    "X_val_tensor = torch.tensor(X_val, dtype=torch.float32)\n",
    "y_val_tensor = torch.tensor(y_val, dtype=torch.float32)"
   ]
  },
  {
   "cell_type": "code",
   "execution_count": 125,
   "id": "ee406314-2af7-412c-957e-a41921da411b",
   "metadata": {},
   "outputs": [],
   "source": [
    "class WindGenerationLSTM(nn.Module):\n",
    "    \"\"\"\n",
    "    A PyTorch LSTM model for wind generation forecasting.\n",
    "\n",
    "    This class implements a neural network with LSTM (Long Short-Term Memory) layers for time series forecasting\n",
    "    of wind generation data. The network consists of an LSTM layer followed by a linear layer. \n",
    "\n",
    "    Attributes:\n",
    "        hidden_layer_size (int): The size of the hidden layer in the LSTM.\n",
    "        lstm (nn.LSTM): The LSTM layer of the network.\n",
    "        linear (nn.Linear): The linear layer of the network.\n",
    "        hidden_cell (tuple): The hidden and cell states of the LSTM.\n",
    "\n",
    "    Methods:\n",
    "        forward(input_seq): Performs the forward pass of the model.\n",
    "    \"\"\"\n",
    "\n",
    "    def __init__(self, input_size=1, hidden_layer_size=5, output_size=1):\n",
    "        super(WindGenerationLSTM, self).__init__()\n",
    "        self.hidden_layer_size = hidden_layer_size\n",
    "\n",
    "        self.lstm = nn.LSTM(input_size, hidden_layer_size)\n",
    "\n",
    "        self.linear = nn.Linear(hidden_layer_size, output_size)\n",
    "\n",
    "        self.hidden_cell = (torch.zeros(1,1,self.hidden_layer_size),\n",
    "                            torch.zeros(1,1,self.hidden_layer_size))\n",
    "\n",
    "    def forward(self, input_seq):\n",
    "        lstm_out, self.hidden_cell = self.lstm(input_seq.reshape(len(input_seq), 1, -1), self.hidden_cell)\n",
    "        predictions = self.linear(lstm_out.view(len(input_seq), -1))\n",
    "        return predictions[-1]"
   ]
  },
  {
   "cell_type": "code",
   "execution_count": 116,
   "id": "e3657b5c-c36b-43ed-9a06-ffe239c8fef7",
   "metadata": {},
   "outputs": [
    {
     "data": {
      "application/vnd.jupyter.widget-view+json": {
       "model_id": "57091037faa54d73a85405bf2993c23d",
       "version_major": 2,
       "version_minor": 0
      },
      "text/plain": [
       "Training:   0%|          | 0/30 [00:00<?, ?epochs/s]"
      ]
     },
     "metadata": {},
     "output_type": "display_data"
    },
    {
     "name": "stdout",
     "output_type": "stream",
     "text": [
      "Epoch 1 \t Training Loss: 0.0376 \t Validation Loss: 0.0991\n",
      "Epoch 2 \t Training Loss: 0.0246 \t Validation Loss: 0.0599\n",
      "Epoch 3 \t Training Loss: 0.0156 \t Validation Loss: 0.0353\n",
      "Epoch 4 \t Training Loss: 0.0110 \t Validation Loss: 0.0243\n",
      "Epoch 5 \t Training Loss: 0.0086 \t Validation Loss: 0.0187\n",
      "Epoch 6 \t Training Loss: 0.0071 \t Validation Loss: 0.0151\n",
      "Epoch 7 \t Training Loss: 0.0060 \t Validation Loss: 0.0125\n",
      "Epoch 8 \t Training Loss: 0.0051 \t Validation Loss: 0.0106\n",
      "Epoch 9 \t Training Loss: 0.0044 \t Validation Loss: 0.0090\n",
      "Epoch 10 \t Training Loss: 0.0039 \t Validation Loss: 0.0077\n",
      "Epoch 11 \t Training Loss: 0.0034 \t Validation Loss: 0.0067\n",
      "Epoch 12 \t Training Loss: 0.0030 \t Validation Loss: 0.0059\n",
      "Epoch 13 \t Training Loss: 0.0026 \t Validation Loss: 0.0051\n",
      "Epoch 14 \t Training Loss: 0.0023 \t Validation Loss: 0.0045\n",
      "Epoch 15 \t Training Loss: 0.0021 \t Validation Loss: 0.0040\n",
      "Epoch 16 \t Training Loss: 0.0018 \t Validation Loss: 0.0036\n",
      "Epoch 17 \t Training Loss: 0.0016 \t Validation Loss: 0.0032\n",
      "Epoch 18 \t Training Loss: 0.0014 \t Validation Loss: 0.0028\n",
      "Epoch 19 \t Training Loss: 0.0012 \t Validation Loss: 0.0025\n",
      "Epoch 20 \t Training Loss: 0.0010 \t Validation Loss: 0.0024\n",
      "Epoch 21 \t Training Loss: 0.0012 \t Validation Loss: 0.0017\n",
      "Epoch 22 \t Training Loss: 0.0009 \t Validation Loss: 0.0014\n",
      "Epoch 23 \t Training Loss: 0.0008 \t Validation Loss: 0.0013\n",
      "Epoch 24 \t Training Loss: 0.0008 \t Validation Loss: 0.0013\n",
      "Epoch 25 \t Training Loss: 0.0008 \t Validation Loss: 0.0013\n",
      "Epoch 26 \t Training Loss: 0.0007 \t Validation Loss: 0.0012\n",
      "Epoch 27 \t Training Loss: 0.0007 \t Validation Loss: 0.0012\n",
      "Epoch 28 \t Training Loss: 0.0007 \t Validation Loss: 0.0012\n",
      "Epoch 29 \t Training Loss: 0.0007 \t Validation Loss: 0.0012\n",
      "Epoch 30 \t Training Loss: 0.0007 \t Validation Loss: 0.0012\n"
     ]
    }
   ],
   "source": [
    "# Instantiating the model\n",
    "model = WindGenerationLSTM()\n",
    "loss_function = nn.MSELoss()\n",
    "# optimizer\n",
    "optimizer = optim.Adam(model.parameters(), lr=0.001)\n",
    "# scheduler\n",
    "scheduler = optim.lr_scheduler.StepLR(optimizer, step_size=20, gamma=0.1) \n",
    "\n",
    "# Training the model\n",
    "epochs = 30\n",
    "\n",
    "train_losses = []\n",
    "val_losses = []\n",
    "# training loop\n",
    "for epoch in tqdm(range(epochs), desc='Training', unit='epochs'):\n",
    "    model.train()  # Set the model to training mode\n",
    "    total_train_loss = 0\n",
    "\n",
    "    # Training loop\n",
    "    for seq, labels in zip(X_train_tensor, y_train_tensor):\n",
    "        optimizer.zero_grad()\n",
    "        model.hidden_cell = (torch.zeros(1, 1, model.hidden_layer_size),\n",
    "                             torch.zeros(1, 1, model.hidden_layer_size))\n",
    "\n",
    "        y_pred = model(seq)\n",
    "        labels = labels.unsqueeze(0)\n",
    "\n",
    "        train_loss = loss_function(y_pred, labels)\n",
    "        train_loss.backward()\n",
    "        optimizer.step()\n",
    "\n",
    "        total_train_loss += train_loss.item()\n",
    "\n",
    "    avg_train_loss = total_train_loss / len(X_train_tensor)\n",
    "    train_losses.append(avg_train_loss)\n",
    "    scheduler.step()\n",
    "\n",
    "    # Validation loop\n",
    "    model.eval()  # Set the model to evaluation mode\n",
    "    with torch.no_grad():\n",
    "        total_val_loss = 0\n",
    "        for seq, labels in zip(X_val_tensor, y_val_tensor):\n",
    "            y_pred = model(seq)\n",
    "            labels = labels.unsqueeze(0)\n",
    "            val_loss = loss_function(y_pred, labels)\n",
    "            total_val_loss += val_loss.item()\n",
    "\n",
    "        avg_val_loss = total_val_loss / len(X_val_tensor)\n",
    "        val_losses.append(avg_val_loss)\n",
    "\n",
    "\n",
    "    print(f'Epoch {epoch+1} \\t Training Loss: {avg_train_loss:.4f} \\t Validation Loss: {avg_val_loss:.4f}')\n"
   ]
  },
  {
   "cell_type": "code",
   "execution_count": 121,
   "id": "d5345ce5-5902-40f0-9dc6-e6787f009fe4",
   "metadata": {},
   "outputs": [
    {
     "data": {
      "image/png": "[encoded data removed]",
      "text/plain": [
       "<Figure size 1000x600 with 1 Axes>"
      ]
     },
     "metadata": {},
     "output_type": "display_data"
    }
   ],
   "source": [
    "# Plotting the training and validation loss graph\n",
    "plt.figure(figsize=(10, 6))\n",
    "plt.plot(train_losses, label='Training Loss')\n",
    "plt.plot(val_losses, label='Validation Loss')\n",
    "plt.title('Training and Validation Loss per Epoch')\n",
    "plt.xlabel('Epoch')\n",
    "plt.ylabel('Loss')\n",
    "plt.legend()\n",
    "plt.show()"
   ]
  },
  {
   "cell_type": "code",
   "execution_count": 122,
   "id": "25948532-8f2b-4c8a-b13e-d9eec5a36693",
   "metadata": {},
   "outputs": [],
   "source": [
    "model_save_path = 'models/wind_generation_lstm_model.pt'\n",
    "\n",
    "# Save the model's state dictionary\n",
    "torch.save(model.state_dict(), model_save_path)"
   ]
  },
  {
   "cell_type": "code",
   "execution_count": 118,
   "id": "18fb56b0-8cdc-42af-816b-a8ab006cdd87",
   "metadata": {},
   "outputs": [],
   "source": [
    "# Assuming 'model' is your trained PyTorch LSTM model\n",
    "# 'scaler' is your MinMaxScaler instance\n",
    "# 'data' is your dataset DataFrame with a column 'MW' for wind generation\n",
    "\n",
    "# Extracting the last 24 hours as the input sequence\n",
    "last_sequence = data['MW'].values[-24:]\n",
    "\n",
    "last_sequence_scaled = scaler.transform(last_sequence.reshape(-1, 1))\n",
    "\n",
    "# Reshape to the format (sequence_length, batch_size, input_size)\n",
    "input_tensor = torch.tensor(last_sequence_scaled.reshape(24, 1, 1), dtype=torch.float32)\n",
    "\n",
    "predictions = []\n",
    "\n",
    "model.eval()  # Set the model to evaluation mode\n",
    "\n",
    "# Predicting the next 24 hours\n",
    "for _ in range(24):\n",
    "    with torch.no_grad():\n",
    "        pred = model(input_tensor)\n",
    "        predictions.append(pred.numpy().item())\n",
    "\n",
    "        # Update the input for the next prediction\n",
    "        input_tensor = torch.cat((input_tensor[0, 1:, :].unsqueeze(0), torch.tensor([[pred.item()]], dtype=torch.float32).view(1, 1, 1)), 1)\n",
    "\n",
    "# Inverse transform the predictions if you used scaling\n",
    "predictions_scaled_back = scaler.inverse_transform(np.array(predictions).reshape(-1, 1))"
   ]
  },
  {
   "cell_type": "code",
   "execution_count": 120,
   "id": "abf509c2-a2cf-426f-8aa7-680e7414be8a",
   "metadata": {},
   "outputs": [],
   "source": [
    "# Output the same dataframe as requested\n",
    "date = \"2024-04-09\"\n",
    "trading_hub = \"SP15\"\n",
    "renewable_type = \"Wind\"\n",
    "hours = range(1, 25)  # Hour numbers from 1 to 24\n",
    "\n",
    "# Create the DataFrame\n",
    "df = pd.DataFrame({\n",
    "    \"DATE\": [date]*24,\n",
    "    \"HE\": hours,\n",
    "    \"Trading_Hub\": [trading_hub]*24,\n",
    "    \"Renewable_Type\": [renewable_type]*24,\n",
    "    \"NW\": predictions_scaled_back.flatten()  # Assuming predictions_scaled_back is a 1D array\n",
    "})\n",
    "\n",
    "df.to_csv(\"2024-04-09_Pred_Loc_Tran.csv\", index=False)"
   ]
  }
 ],
 "metadata": {
  "kernelspec": {
   "display_name": "Python 3 (ipykernel)",
   "language": "python",
   "name": "python3"
  },
  "language_info": {
   "codemirror_mode": {
    "name": "ipython",
    "version": 3
   },
   "file_extension": ".py",
   "mimetype": "text/x-python",
   "name": "python",
   "nbconvert_exporter": "python",
   "pygments_lexer": "ipython3",
   "version": "3.12.2"
  }
 },
 "nbformat": 4,
 "nbformat_minor": 5
}
