{
 "cells": [
  {
   "cell_type": "markdown",
   "id": "ce38fe58-2b07-4814-916f-89028940ff74",
   "metadata": {},
   "source": [
    "## Goal 2: Predict actual power generation by wind plants of SP15 hub on 2024-04-09\n",
    "\n"
   ]
  },
  {
   "cell_type": "code",
   "execution_count": 1,
   "id": "859f5ca6-7ede-4798-951b-7e3ab50215f8",
   "metadata": {},
   "outputs": [],
   "source": [
    "import torch\n",
    "import numpy as np\n",
    "import pandas as pd\n",
    "import torch.nn as nn\n",
    "import torch.optim as optim\n",
    "from tqdm.notebook import tqdm\n",
    "import matplotlib.pyplot as plt\n",
    "from sklearn.preprocessing import MinMaxScaler\n",
    "from sklearn.model_selection import train_test_split"
   ]
  },
  {
   "cell_type": "code",
   "execution_count": 2,
   "id": "617ca5ff-eb9e-42ae-91c3-600521a890d3",
   "metadata": {},
   "outputs": [
    {
     "data": {
      "text/html": [
       "<div>\n",
       "<style scoped>\n",
       "    .dataframe tbody tr th:only-of-type {\n",
       "        vertical-align: middle;\n",
       "    }\n",
       "\n",
       "    .dataframe tbody tr th {\n",
       "        vertical-align: top;\n",
       "    }\n",
       "\n",
       "    .dataframe thead th {\n",
       "        text-align: right;\n",
       "    }\n",
       "</style>\n",
       "<table border=\"1\" class=\"dataframe\">\n",
       "  <thead>\n",
       "    <tr style=\"text-align: right;\">\n",
       "      <th></th>\n",
       "      <th>OPR_DT</th>\n",
       "      <th>OPR_HR</th>\n",
       "      <th>TRADING_HUB</th>\n",
       "      <th>RENEWABLE_TYPE</th>\n",
       "      <th>MW</th>\n",
       "      <th>MARKET_RUN_ID</th>\n",
       "    </tr>\n",
       "  </thead>\n",
       "  <tbody>\n",
       "    <tr>\n",
       "      <th>0</th>\n",
       "      <td>2024-03-16</td>\n",
       "      <td>1</td>\n",
       "      <td>SP15</td>\n",
       "      <td>Wind</td>\n",
       "      <td>86.06151</td>\n",
       "      <td>ACTUAL</td>\n",
       "    </tr>\n",
       "    <tr>\n",
       "      <th>1</th>\n",
       "      <td>2024-03-16</td>\n",
       "      <td>1</td>\n",
       "      <td>SP15</td>\n",
       "      <td>Wind</td>\n",
       "      <td>181.85000</td>\n",
       "      <td>DAM</td>\n",
       "    </tr>\n",
       "    <tr>\n",
       "      <th>2</th>\n",
       "      <td>2024-03-16</td>\n",
       "      <td>2</td>\n",
       "      <td>SP15</td>\n",
       "      <td>Wind</td>\n",
       "      <td>44.73634</td>\n",
       "      <td>ACTUAL</td>\n",
       "    </tr>\n",
       "    <tr>\n",
       "      <th>3</th>\n",
       "      <td>2024-03-16</td>\n",
       "      <td>2</td>\n",
       "      <td>SP15</td>\n",
       "      <td>Wind</td>\n",
       "      <td>214.71000</td>\n",
       "      <td>DAM</td>\n",
       "    </tr>\n",
       "    <tr>\n",
       "      <th>4</th>\n",
       "      <td>2024-03-16</td>\n",
       "      <td>3</td>\n",
       "      <td>SP15</td>\n",
       "      <td>Wind</td>\n",
       "      <td>93.95260</td>\n",
       "      <td>ACTUAL</td>\n",
       "    </tr>\n",
       "  </tbody>\n",
       "</table>\n",
       "</div>"
      ],
      "text/plain": [
       "       OPR_DT  OPR_HR TRADING_HUB RENEWABLE_TYPE         MW MARKET_RUN_ID\n",
       "0  2024-03-16       1        SP15           Wind   86.06151        ACTUAL\n",
       "1  2024-03-16       1        SP15           Wind  181.85000           DAM\n",
       "2  2024-03-16       2        SP15           Wind   44.73634        ACTUAL\n",
       "3  2024-03-16       2        SP15           Wind  214.71000           DAM\n",
       "4  2024-03-16       3        SP15           Wind   93.95260        ACTUAL"
      ]
     },
     "execution_count": 2,
     "metadata": {},
     "output_type": "execute_result"
    }
   ],
   "source": [
    "# Load the provided time series data\n",
    "file_path = '/Users/lok/5DE/data/DAM_ACTUAL.csv'\n",
    "data = pd.read_csv(file_path)\n",
    "data.head()"
   ]
  },
  {
   "cell_type": "code",
   "execution_count": 3,
   "id": "8ddb55b0-c200-4d8d-a12d-75cb1553c9be",
   "metadata": {},
   "outputs": [
    {
     "data": {
      "text/html": [
       "<div>\n",
       "<style scoped>\n",
       "    .dataframe tbody tr th:only-of-type {\n",
       "        vertical-align: middle;\n",
       "    }\n",
       "\n",
       "    .dataframe tbody tr th {\n",
       "        vertical-align: top;\n",
       "    }\n",
       "\n",
       "    .dataframe thead th {\n",
       "        text-align: right;\n",
       "    }\n",
       "</style>\n",
       "<table border=\"1\" class=\"dataframe\">\n",
       "  <thead>\n",
       "    <tr style=\"text-align: right;\">\n",
       "      <th></th>\n",
       "      <th>Actual_MW</th>\n",
       "      <th>Predicted_MW</th>\n",
       "    </tr>\n",
       "  </thead>\n",
       "  <tbody>\n",
       "    <tr>\n",
       "      <th>0</th>\n",
       "      <td>86.06151</td>\n",
       "      <td>181.85</td>\n",
       "    </tr>\n",
       "    <tr>\n",
       "      <th>1</th>\n",
       "      <td>44.73634</td>\n",
       "      <td>214.71</td>\n",
       "    </tr>\n",
       "    <tr>\n",
       "      <th>2</th>\n",
       "      <td>93.95260</td>\n",
       "      <td>219.87</td>\n",
       "    </tr>\n",
       "    <tr>\n",
       "      <th>3</th>\n",
       "      <td>212.32840</td>\n",
       "      <td>226.03</td>\n",
       "    </tr>\n",
       "    <tr>\n",
       "      <th>4</th>\n",
       "      <td>294.56320</td>\n",
       "      <td>254.62</td>\n",
       "    </tr>\n",
       "  </tbody>\n",
       "</table>\n",
       "</div>"
      ],
      "text/plain": [
       "   Actual_MW  Predicted_MW\n",
       "0   86.06151        181.85\n",
       "1   44.73634        214.71\n",
       "2   93.95260        219.87\n",
       "3  212.32840        226.03\n",
       "4  294.56320        254.62"
      ]
     },
     "execution_count": 3,
     "metadata": {},
     "output_type": "execute_result"
    }
   ],
   "source": [
    "# Separating actual and predicted data\n",
    "actual_data = data[data['MARKET_RUN_ID'] == 'ACTUAL']\n",
    "predicted_data = data[data['MARKET_RUN_ID'] == 'DAM']\n",
    "\n",
    "# Renaming 'MW' columns \n",
    "actual_data = actual_data.rename(columns={'MW': 'Actual_MW'})\n",
    "predicted_data = predicted_data.rename(columns={'MW': 'Predicted_MW'})\n",
    "\n",
    "# Merging the datasets on date and hour\n",
    "merged_data = pd.merge(actual_data, predicted_data, on=['OPR_DT', 'OPR_HR', 'TRADING_HUB', 'RENEWABLE_TYPE'], how='inner')\n",
    "\n",
    "# Display the merged dataset structure\n",
    "relevant_data = merged_data[['Actual_MW', 'Predicted_MW']]\n",
    "\n",
    "relevant_data.head()"
   ]
  },
  {
   "cell_type": "code",
   "execution_count": 4,
   "id": "6e45eee4-e4e8-4efc-ba6a-2e52b2c7a609",
   "metadata": {},
   "outputs": [],
   "source": [
    "# Normalizing the data\n",
    "scaler = MinMaxScaler(feature_range=(0, 1))\n",
    "normalized_data = scaler.fit_transform(relevant_data)"
   ]
  },
  {
   "cell_type": "code",
   "execution_count": 5,
   "id": "63c6b879-b428-4d76-844b-e72c18c39dca",
   "metadata": {},
   "outputs": [],
   "source": [
    "# Function to create sequences with both actual and predicted data\n",
    "def create_sequences(input_data, sequence_length):\n",
    "    xs = []\n",
    "    ys = []\n",
    "    for i in range(len(input_data)-sequence_length):\n",
    "        x = input_data[i:(i+sequence_length), :]\n",
    "        y = input_data[i+sequence_length, 0]  # We are predicting the next actual value\n",
    "        xs.append(x)\n",
    "        ys.append(y)\n",
    "    return np.array(xs), np.array(ys)\n",
    "\n",
    "# Creating sequences\n",
    "sequence_length = 24  # using 24 hours of data to predict the next hour\n",
    "X, y = create_sequences(normalized_data, sequence_length)\n",
    "\n",
    "train_size = int(len(X) * 0.8)\n",
    "X_train, y_train = X[:train_size], y[:train_size]\n",
    "X_val, y_val = X[train_size:], y[train_size:]\n",
    "\n",
    "# Converting data to PyTorch tensors\n",
    "X_train_tensor = torch.tensor(X_train, dtype=torch.float32)\n",
    "y_train_tensor = torch.tensor(y_train, dtype=torch.float32)\n",
    "X_val_tensor = torch.tensor(X_val, dtype=torch.float32)\n",
    "y_val_tensor = torch.tensor(y_val, dtype=torch.float32)"
   ]
  },
  {
   "cell_type": "code",
   "execution_count": 6,
   "id": "ee406314-2af7-412c-957e-a41921da411b",
   "metadata": {},
   "outputs": [],
   "source": [
    "class WindGenerationLSTM(nn.Module):\n",
    "    def __init__(self, input_size=2, hidden_layer_size=50, output_size=1):\n",
    "        super(WindGenerationLSTM, self).__init__()\n",
    "        self.hidden_layer_size = hidden_layer_size\n",
    "\n",
    "        self.lstm = nn.LSTM(input_size, hidden_layer_size)\n",
    "\n",
    "        self.linear = nn.Linear(hidden_layer_size, output_size)\n",
    "\n",
    "        self.hidden_cell = (torch.zeros(1,1,self.hidden_layer_size),\n",
    "                            torch.zeros(1,1,self.hidden_layer_size))\n",
    "\n",
    "    def forward(self, input_seq):\n",
    "        lstm_out, self.hidden_cell = self.lstm(input_seq.reshape(len(input_seq), 1, -1), self.hidden_cell)\n",
    "        predictions = self.linear(lstm_out.view(len(input_seq), -1))\n",
    "        return predictions[-1]"
   ]
  },
  {
   "cell_type": "code",
   "execution_count": 7,
   "id": "e3657b5c-c36b-43ed-9a06-ffe239c8fef7",
   "metadata": {},
   "outputs": [
    {
     "data": {
      "application/vnd.jupyter.widget-view+json": {
       "model_id": "c03764238d2047c0b1e8f45306aa65fc",
       "version_major": 2,
       "version_minor": 0
      },
      "text/plain": [
       "Training Progress:   0%|          | 0/30 [00:00<?, ?it/s]"
      ]
     },
     "metadata": {},
     "output_type": "display_data"
    },
    {
     "name": "stderr",
     "output_type": "stream",
     "text": [
      "/Users/lok/miniconda3/envs/5de/lib/python3.12/site-packages/torch/nn/modules/loss.py:535: UserWarning: Using a target size (torch.Size([])) that is different to the input size (torch.Size([1])). This will likely lead to incorrect results due to broadcasting. Please ensure they have the same size.\n",
      "  return F.mse_loss(input, target, reduction=self.reduction)\n"
     ]
    },
    {
     "name": "stdout",
     "output_type": "stream",
     "text": [
      "Epoch 1 \t Training Loss: 0.0212 \t Validation Loss: 0.0309\n",
      "Epoch 2 \t Training Loss: 0.0118 \t Validation Loss: 0.0162\n",
      "Epoch 3 \t Training Loss: 0.0077 \t Validation Loss: 0.0084\n",
      "Epoch 4 \t Training Loss: 0.0057 \t Validation Loss: 0.0053\n",
      "Epoch 5 \t Training Loss: 0.0048 \t Validation Loss: 0.0036\n",
      "Epoch 6 \t Training Loss: 0.0040 \t Validation Loss: 0.0029\n",
      "Epoch 7 \t Training Loss: 0.0035 \t Validation Loss: 0.0031\n",
      "Epoch 8 \t Training Loss: 0.0034 \t Validation Loss: 0.0026\n",
      "Epoch 9 \t Training Loss: 0.0029 \t Validation Loss: 0.0027\n",
      "Epoch 10 \t Training Loss: 0.0028 \t Validation Loss: 0.0027\n",
      "Epoch 11 \t Training Loss: 0.0027 \t Validation Loss: 0.0024\n",
      "Epoch 12 \t Training Loss: 0.0029 \t Validation Loss: 0.0026\n",
      "Epoch 13 \t Training Loss: 0.0026 \t Validation Loss: 0.0026\n",
      "Epoch 14 \t Training Loss: 0.0025 \t Validation Loss: 0.0026\n",
      "Epoch 15 \t Training Loss: 0.0023 \t Validation Loss: 0.0027\n",
      "Epoch 16 \t Training Loss: 0.0023 \t Validation Loss: 0.0028\n",
      "Epoch 17 \t Training Loss: 0.0023 \t Validation Loss: 0.0027\n",
      "Epoch 18 \t Training Loss: 0.0024 \t Validation Loss: 0.0026\n",
      "Epoch 19 \t Training Loss: 0.0023 \t Validation Loss: 0.0028\n",
      "Epoch 20 \t Training Loss: 0.0024 \t Validation Loss: 0.0028\n",
      "Epoch 21 \t Training Loss: 0.0022 \t Validation Loss: 0.0028\n",
      "Epoch 22 \t Training Loss: 0.0019 \t Validation Loss: 0.0029\n",
      "Epoch 23 \t Training Loss: 0.0019 \t Validation Loss: 0.0029\n",
      "Epoch 24 \t Training Loss: 0.0018 \t Validation Loss: 0.0028\n",
      "Epoch 25 \t Training Loss: 0.0018 \t Validation Loss: 0.0028\n",
      "Epoch 26 \t Training Loss: 0.0018 \t Validation Loss: 0.0028\n",
      "Epoch 27 \t Training Loss: 0.0018 \t Validation Loss: 0.0028\n",
      "Epoch 28 \t Training Loss: 0.0018 \t Validation Loss: 0.0028\n",
      "Epoch 29 \t Training Loss: 0.0018 \t Validation Loss: 0.0027\n",
      "Epoch 30 \t Training Loss: 0.0018 \t Validation Loss: 0.0027\n"
     ]
    }
   ],
   "source": [
    "# Instantiating the model\n",
    "model = WindGenerationLSTM()\n",
    "loss_function = nn.MSELoss()\n",
    "optimizer = optim.Adam(model.parameters(), lr=0.001)\n",
    "scheduler = optim.lr_scheduler.StepLR(optimizer, step_size=20, gamma=0.1)  # adjust step_size and gamma as needed\n",
    "\n",
    "# Training the model\n",
    "epochs = 30\n",
    "\n",
    "train_losses = []\n",
    "val_losses = []\n",
    "\n",
    "for epoch in tqdm(range(epochs), desc=\"Training Progress\"):\n",
    "    model.train()  # Set the model to training mode\n",
    "    total_train_loss = 0\n",
    "\n",
    "    # Training loop\n",
    "    for seq, labels in zip(X_train_tensor, y_train_tensor):\n",
    "        optimizer.zero_grad()\n",
    "        model.hidden_cell = (torch.zeros(1, 1, model.hidden_layer_size),\n",
    "                             torch.zeros(1, 1, model.hidden_layer_size))\n",
    "\n",
    "        y_pred = model(seq)\n",
    "        train_loss = loss_function(y_pred, labels)\n",
    "        train_loss.backward()\n",
    "        optimizer.step()\n",
    "\n",
    "        total_train_loss += train_loss.item()\n",
    "\n",
    "    avg_train_loss = total_train_loss / len(X_train_tensor)\n",
    "    train_losses.append(avg_train_loss)\n",
    "    scheduler.step()\n",
    "\n",
    "    # Validation loop\n",
    "    model.eval()  # Set the model to evaluation mode\n",
    "    with torch.no_grad():\n",
    "        total_val_loss = 0\n",
    "        for seq, labels in zip(X_val_tensor, y_val_tensor):\n",
    "            y_pred = model(seq)\n",
    "            labels = labels.unsqueeze(0)\n",
    "            val_loss = loss_function(y_pred, labels)\n",
    "            total_val_loss += val_loss.item()\n",
    "\n",
    "        avg_val_loss = total_val_loss / len(X_val_tensor)\n",
    "        val_losses.append(avg_val_loss)\n",
    "\n",
    "\n",
    "    print(f'Epoch {epoch+1} \\t Training Loss: {avg_train_loss:.4f} \\t Validation Loss: {avg_val_loss:.4f}')\n"
   ]
  },
  {
   "cell_type": "code",
   "execution_count": 9,
   "id": "d5345ce5-5902-40f0-9dc6-e6787f009fe4",
   "metadata": {},
   "outputs": [
    {
     "data": {
      "image/png": "[encoded data removed]",
      "text/plain": [
       "<Figure size 1000x600 with 1 Axes>"
      ]
     },
     "metadata": {},
     "output_type": "display_data"
    }
   ],
   "source": [
    "# Plotting the training and validation loss graph\n",
    "plt.figure(figsize=(10, 6))\n",
    "plt.plot(train_losses, label='Training Loss')\n",
    "plt.plot(val_losses, label='Validation Loss')\n",
    "plt.title('Training and Validation Loss per Epoch')\n",
    "plt.xlabel('Epoch')\n",
    "plt.ylabel('Loss')\n",
    "plt.legend()\n",
    "plt.show()"
   ]
  },
  {
   "cell_type": "code",
   "execution_count": null,
   "id": "25948532-8f2b-4c8a-b13e-d9eec5a36693",
   "metadata": {},
   "outputs": [],
   "source": []
  }
 ],
 "metadata": {
  "kernelspec": {
   "display_name": "Python 3 (ipykernel)",
   "language": "python",
   "name": "python3"
  },
  "language_info": {
   "codemirror_mode": {
    "name": "ipython",
    "version": 3
   },
   "file_extension": ".py",
   "mimetype": "text/x-python",
   "name": "python",
   "nbconvert_exporter": "python",
   "pygments_lexer": "ipython3",
   "version": "3.12.2"
  }
 },
 "nbformat": 4,
 "nbformat_minor": 5
}
